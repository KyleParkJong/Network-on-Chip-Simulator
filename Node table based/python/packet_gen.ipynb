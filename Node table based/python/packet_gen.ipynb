{
 "cells": [
  {
   "cell_type": "code",
   "execution_count": 1,
   "metadata": {},
   "outputs": [
    {
     "name": "stdout",
     "output_type": "stream",
     "text": [
      "/* packet generator for n2 */\n",
      "initial begin\n",
      "    #(STEP / 2);\n",
      "    #(STEP * 10);\n",
      "    while (~ready) begin\n",
      "        #(STEP);\n",
      "    end\n",
      "\n",
      "    $write(\"*** Send multicast (src: 2 dst: 7,11 vch: 1 len: 5) *** \\n\");\n",
      "    send_packet_m_2 (56'b100010000000, 1, 5);\n",
      "end\n",
      "\n",
      "/* packet generator for n6 */\n",
      "initial begin\n",
      "    #(STEP / 2);\n",
      "    #(STEP * 10);\n",
      "    while (~ready) begin\n",
      "        #(STEP);\n",
      "    end\n",
      "\n",
      "    $write(\"*** Send unicast (src: 6 dst: 7 vch: 1 len: 9) *** \\n\");\n",
      "    send_packet_u_6 (7, 1, 9);\n",
      "end\n",
      "\n"
     ]
    }
   ],
   "source": [
    "def write(mu, src, dst, vch, len):    \n",
    "    if mu:\n",
    "        lis = []\n",
    "        for i in range(int(dst[-1])+1):\n",
    "            if i in dst:\n",
    "                lis.append(1)\n",
    "            else:\n",
    "                lis.append(0)\n",
    "        lis.reverse()\n",
    "        one_hot = \"\".join(map(str, lis))\n",
    "        \n",
    "        print(f'    $write(\"*** Send multicast (src: {src} dst: {\",\".join(map(str,dst))} vch: {vch} len: {len}) *** \\\\n\");')\n",
    "        print(f\"    send_packet_m_{src} (56'b{one_hot}, {vch}, {len});\")\n",
    "    else:\n",
    "        print(f'    $write(\"*** Send unicast (src: {src} dst: {dst[0]} vch: {vch} len: {len}) *** \\\\n\");')\n",
    "        print(f\"    send_packet_u_{src} ({dst[0]}, {vch}, {len});\")\n",
    "        \n",
    "\n",
    "src = list(map(int, input(\"Initial source (seperate by space): \").split()))\n",
    "\n",
    "for src0 in src:\n",
    "    print(f\"/* packet generator for n{src0} */\")\n",
    "    mu = int(input(\"Multicast-1, Unicast-0 : \"))\n",
    "    dst = list(map(int, input(\"Destination (오름차순, seperate by space) : \").split()))\n",
    "    vch = int(input(\"Vch : \"))\n",
    "    len = int(input(\"Packet length : \"))\n",
    "    \n",
    "    print(\"initial begin\")\n",
    "    print(\"    #(STEP / 2);\")\n",
    "    print(\"    #(STEP * 10);\")\n",
    "    print(\"    while (~ready) begin\")\n",
    "    print(\"        #(STEP);\")\n",
    "    print(\"    end\")\n",
    "    print(\"\")\n",
    "    write(mu, src0, dst, vch, len)\n",
    "    print(\"end\")\n",
    "    print(\"\")\n",
    "    \n"
   ]
  }
 ],
 "metadata": {
  "kernelspec": {
   "display_name": "Python 3",
   "language": "python",
   "name": "python3"
  },
  "language_info": {
   "codemirror_mode": {
    "name": "ipython",
    "version": 3
   },
   "file_extension": ".py",
   "mimetype": "text/x-python",
   "name": "python",
   "nbconvert_exporter": "python",
   "pygments_lexer": "ipython3",
   "version": "3.11.1"
  },
  "orig_nbformat": 4
 },
 "nbformat": 4,
 "nbformat_minor": 2
}
